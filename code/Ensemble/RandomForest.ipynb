{
 "cells": [
  {
   "cell_type": "markdown",
   "metadata": {},
   "source": [
    "# Outline\n",
    "- Implement Random Forest using sklearn.tree.DecisionTreeClassifier\n",
    "- Out-of-Bag Error\n",
    "- Learn bagging and boosting in sklearn\n",
    "- Visualize bias-variance for bagging and boosting\n",
    "- Stacking"
   ]
  },
  {
   "cell_type": "code",
   "execution_count": 1,
   "metadata": {},
   "outputs": [],
   "source": [
    "import numpy as np\n",
    "from matplotlib import pyplot as plt"
   ]
  },
  {
   "cell_type": "markdown",
   "metadata": {},
   "source": [
    "### Generate Toy dataset"
   ]
  },
  {
   "cell_type": "code",
   "execution_count": 2,
   "metadata": {},
   "outputs": [
    {
     "name": "stdout",
     "output_type": "stream",
     "text": [
      "(2000, 16)\n"
     ]
    }
   ],
   "source": [
    "from sklearn.datasets import make_classification\n",
    "\n",
    "# randomly create dataset\n",
    "X, y = make_classification(n_samples=2000, \n",
    "                           n_features=16, n_informative=6,\n",
    "                           n_clusters_per_class=2, flip_y=0.01, random_state=1007)\n",
    "\n",
    "print(X.shape)"
   ]
  },
  {
   "cell_type": "markdown",
   "metadata": {},
   "source": [
    "### Random Forest\n",
    "Build random forest based on sklearn.tree.DecisionTreeClassifier"
   ]
  },
  {
   "cell_type": "code",
   "execution_count": 3,
   "metadata": {},
   "outputs": [],
   "source": [
    "from sklearn.tree import DecisionTreeClassifier as DTC\n",
    "\n",
    "class RandomForest():\n",
    "    def __init__(self, n_trees=10, max_features='sqrt', oob_score=False):\n",
    "        self.n_trees = n_trees\n",
    "        self.oob_score = oob_score\n",
    "        self.trees = [DTC(max_features=max_features) for _ in range(n_trees)]\n",
    "\n",
    "    # compatible with Sklearn fit api, train model with X and y\n",
    "    # X: training data of shape [n_sample, d_feature]\n",
    "    # y: class label of shape [n_sample]\n",
    "    def fit(self, X, y):\n",
    "        n_samples, n_features = X.shape\n",
    "        self.n_classes = np.unique(y).shape[0]\n",
    "            \n",
    "        if self.oob_score:\n",
    "            proba_oob = np.zeros((n_samples, self.n_classes))\n",
    "            \n",
    "        for tree in self.trees:\n",
    "            # get bagging samples (Bagging)\n",
    "            sampled_idx = np.random.randint(0, n_samples, n_samples)\n",
    "            if self.oob_score:\n",
    "                unsampled_mask = np.bincount(sampled_idx, minlength=n_samples) == 0\n",
    "                unsampled_idx = np.arange(n_samples)[unsampled_mask]\n",
    "                                         \n",
    "            tree.fit(X[sampled_idx], y[sampled_idx])            \n",
    "            if self.oob_score:\n",
    "                proba_oob[unsampled_idx] += tree.predict_proba(X[unsampled_idx])\n",
    "                \n",
    "        if self.oob_score:\n",
    "            self.oob_score_ = np.mean(y == np.argmax(proba_oob, axis=1))\n",
    "    \n",
    "    # compatible with Sklearn predict api, get class prediction with X\n",
    "    # X: data of shape [n_sample, d_feature]\n",
    "    # return: prediction of shape [n_sample]        \n",
    "    def predict(self, X):\n",
    "        proba = self.predict_proba(X)\n",
    "        return np.argmax(proba, axis=1)\n",
    "    \n",
    "    # compatible with Sklearn predict_proba api, get class predict probability with X\n",
    "    # X: data of shape [n_sample, d_feature]\n",
    "    # return: predict probability of shape [n_sample, n_class]\n",
    "    def predict_proba(self, X):\n",
    "        proba = np.zeros((X.shape[0], self.n_classes))\n",
    "        for tree in self.trees:\n",
    "            proba += tree.predict_proba(X)\n",
    "        proba /= self.n_trees\n",
    "        return proba\n",
    "    # compatible with Sklearn score api, compute classification accuracy using trained model\n",
    "    # X: data of shape [n_sample, d_feature]\n",
    "    # y: class label of shape [n_sample]\n",
    "    # return: accuracy\n",
    "    def score(self, X, y):\n",
    "        return np.mean(y == self.predict(X))"
   ]
  },
  {
   "cell_type": "code",
   "execution_count": 4,
   "metadata": {},
   "outputs": [
    {
     "data": {
      "image/png": "[encoded data removed]",
      "text/plain": [
       "<Figure size 432x288 with 1 Axes>"
      ]
     },
     "metadata": {
      "needs_background": "light"
     },
     "output_type": "display_data"
    }
   ],
   "source": [
    "# Visualization for Bagging (reduce variance)\n",
    "n_trees = []\n",
    "oob_score = []\n",
    "train_score = []\n",
    "for n_tree in range(1, 50):\n",
    "    rf = RandomForest(n_trees = n_tree, oob_score=True)\n",
    "    rf.fit(X, y)\n",
    "    n_trees.append(n_tree)\n",
    "    oob_score.append(rf.oob_score_)\n",
    "    train_score.append(rf.score(X, y))\n",
    "    \n",
    "plt.plot(n_trees, oob_score, label='oob_score')\n",
    "plt.plot(n_trees, train_score, label='train_score')\n",
    "plt.ylabel('score')\n",
    "plt.xlabel('n_trees')\n",
    "plt.legend(loc=\"upper right\")\n",
    "plt.show()"
   ]
  },
  {
   "cell_type": "code",
   "execution_count": 5,
   "metadata": {},
   "outputs": [
    {
     "name": "stdout",
     "output_type": "stream",
     "text": [
      "0.818\n"
     ]
    },
    {
     "name": "stderr",
     "output_type": "stream",
     "text": [
      "/Library/Frameworks/Python.framework/Versions/3.6/lib/python3.6/site-packages/sklearn/ensemble/bagging.py:610: UserWarning: Some inputs do not have OOB scores. This probably means too few estimators were used to compute any reliable oob estimates.\n",
      "  warn(\"Some inputs do not have OOB scores. \"\n",
      "/Library/Frameworks/Python.framework/Versions/3.6/lib/python3.6/site-packages/sklearn/ensemble/bagging.py:615: RuntimeWarning: invalid value encountered in true_divide\n",
      "  predictions.sum(axis=1)[:, np.newaxis])\n"
     ]
    }
   ],
   "source": [
    "from sklearn.ensemble import BaggingClassifier\n",
    "\n",
    "bc = BaggingClassifier(DTC(max_features='sqrt'), n_estimators=10, oob_score=True)\n",
    "bc.fit(X, y)\n",
    "print(bc.oob_score_)"
   ]
  },
  {
   "cell_type": "markdown",
   "metadata": {},
   "source": [
    "### Sklearn GradientBoostingClassifier"
   ]
  },
  {
   "cell_type": "code",
   "execution_count": 6,
   "metadata": {},
   "outputs": [
    {
     "data": {
      "image/png": "[encoded data removed]",
      "text/plain": [
       "<Figure size 432x288 with 1 Axes>"
      ]
     },
     "metadata": {
      "needs_background": "light"
     },
     "output_type": "display_data"
    }
   ],
   "source": [
    "# Visualization for Boosting (reduce bias)\n",
    "from sklearn.model_selection import train_test_split\n",
    "from sklearn.ensemble import GradientBoostingClassifier as GBC\n",
    "\n",
    "X_train, X_test, y_train, y_test = train_test_split(X, y, test_size=0.2)\n",
    "\n",
    "n_trees = []\n",
    "train_score = []\n",
    "test_score = []\n",
    "\n",
    "for n_estimators in range(1, 100, 1):\n",
    "    gbc = GBC(n_estimators=n_estimators, max_depth=3)\n",
    "    gbc.fit(X_train, y_train)\n",
    "    n_trees.append(n_estimators)\n",
    "    train_score.append(gbc.score(X_train, y_train))\n",
    "    test_score.append(gbc.score(X_test, y_test))\n",
    "    \n",
    "plt.plot(n_trees, train_score, label='train_score')\n",
    "plt.plot(n_trees, test_score, label='test_score')\n",
    "plt.ylabel('score')\n",
    "plt.xlabel('n_trees')\n",
    "plt.legend(loc=\"upper right\")\n",
    "plt.show()"
   ]
  },
  {
   "cell_type": "markdown",
   "metadata": {},
   "source": [
    "### Build Ensemble Classifier"
   ]
  },
  {
   "cell_type": "code",
   "execution_count": 7,
   "metadata": {},
   "outputs": [],
   "source": [
    "from sklearn.model_selection import KFold\n",
    "\n",
    "class EnsembleClassifier():\n",
    "    # classifiers: list of base classifiers (with method fit, score, predict_proba)\n",
    "    def __init__(self, classifiers):\n",
    "        self.classifiers = classifiers\n",
    "        \n",
    "    def fit(self, X, y):\n",
    "        raise NotImplementedError\n",
    "        \n",
    "    def predict(self, X):\n",
    "        raise NotImplementedError\n",
    "        \n",
    "    def score(self, X, y):\n",
    "        raise NotImplementedError\n",
    "    \n",
    "    # get score of each base classifier\n",
    "    # X: data of shape [n_sample, d_feature]\n",
    "    # y: class label of shape [n_sample]\n",
    "    # return: list of scores\n",
    "    def score_classifiers(self, X, y):\n",
    "        scores = []\n",
    "        for classifier in self.classifiers:\n",
    "            scores.append(classifier.score(X, y))\n",
    "        return scores\n",
    "    \n",
    "class AverageClassifier(EnsembleClassifier):\n",
    "    def fit(self, X, y):\n",
    "        self.n_classes = np.unique(y).shape[0]\n",
    "    \n",
    "        for classifier in self.classifiers:\n",
    "            classifier.fit(X, y)\n",
    "    \n",
    "    def predict(self, X):\n",
    "        predict_proba = np.zeros((X.shape[0], self.n_classes))\n",
    "        for classifier in self.classifiers:\n",
    "            predict_proba += classifier.predict_proba(X)\n",
    "        return np.argmax(predict_proba, axis=1)\n",
    "        \n",
    "    def score(self, X, y):\n",
    "        return np.mean(y == self.predict(X))"
   ]
  },
  {
   "cell_type": "code",
   "execution_count": 8,
   "metadata": {},
   "outputs": [],
   "source": [
    "class StackingClassifier(EnsembleClassifier):\n",
    "    # meta_classifier: classifier for second-level prediction\n",
    "    # concat_feature: whether to use original feature\n",
    "    # kfold: split training data into kfold, train on k-1 folds, get prediction on the rest one\n",
    "    def __init__(self, classifiers, meta_classifier, concat_feature=False, kfold=5):\n",
    "        super().__init__(classifiers)\n",
    "        self.meta_classifier = meta_classifier\n",
    "        self.concat_feature = concat_feature\n",
    "        self.kf = KFold(n_splits=kfold)\n",
    "        \n",
    "    def fit(self, X, y):\n",
    "        n_samples, n_features = X.shape\n",
    "        self.n_classes = np.unique(y).shape[0]\n",
    "        \n",
    "        if self.concat_feature:\n",
    "            features = X\n",
    "        else:\n",
    "            features = np.zeros((n_samples, 0))\n",
    "        for classifier in self.classifiers:\n",
    "            predict_proba = np.zeros((n_samples, self.n_classes))\n",
    "            for train_idx, test_idx in self.kf.split(X):\n",
    "                classifier.fit(X[train_idx], y[train_idx])\n",
    "                predict_proba[test_idx] = classifier.predict_proba(X[test_idx])\n",
    "            features = np.c_[features, predict_proba]\n",
    "        \n",
    "        self.meta_classifier.fit(features, y)\n",
    "    \n",
    "        # retrain classifiers with all training data\n",
    "        for classifier in self.classifiers:\n",
    "            classifier.fit(X, y)\n",
    "    \n",
    "    def _get_features(self, X):\n",
    "        if self.concat_feature:\n",
    "            features = X\n",
    "        else:\n",
    "            features = np.zeros((X.shape[0], 0))\n",
    "        for classifier in self.classifiers:\n",
    "            features = np.c_[features, classifier.predict_proba(X)]\n",
    "        return features\n",
    "    \n",
    "    def predict(self, X):\n",
    "        return self.meta_classifier.predict(self._get_features(X))\n",
    "        \n",
    "    def score(self, X, y):\n",
    "        return self.meta_classifier.score(self._get_features(X), y)"
   ]
  },
  {
   "cell_type": "code",
   "execution_count": 10,
   "metadata": {},
   "outputs": [
    {
     "name": "stdout",
     "output_type": "stream",
     "text": [
      "BaseClassifiers:  [0.85, 0.8375]\n",
      "AverageClassifiers: 0.857500\n",
      "StackingClassifiers: 0.842500\n",
      "StackingClassifiers with original features: 0.867500\n"
     ]
    }
   ],
   "source": [
    "from sklearn.linear_model import LogisticRegression as LR\n",
    "from sklearn.ensemble import RandomForestClassifier as RFC\n",
    "from sklearn.neighbors import KNeighborsClassifier as KNC\n",
    "\n",
    "rf = RFC(n_estimators=10)\n",
    "knc = KNC()\n",
    "lr = LR(C=2, solver='liblinear', multi_class=\"ovr\")\n",
    "\n",
    "ac = AverageClassifier([rf, knc])\n",
    "ac.fit(X_train, y_train)\n",
    "print(\"BaseClassifiers: \", ac.score_classifiers(X_test, y_test))\n",
    "print(\"AverageClassifiers: %.6f\" % ac.score(X_test, y_test))\n",
    "\n",
    "sc = StackingClassifier([rf, knc], lr, concat_feature=False)\n",
    "sc.fit(X_train, y_train)\n",
    "print(\"StackingClassifiers: %.6f\" % sc.score(X_test, y_test))\n",
    "\n",
    "sc_concat = StackingClassifier([rf, knc], lr, concat_feature=True)\n",
    "sc_concat.fit(X_train, y_train)\n",
    "print(\"StackingClassifiers with original features: %.6f\" % sc_concat.score(X_test, y_test))"
   ]
  }
 ],
 "metadata": {
  "kernelspec": {
   "display_name": "Python 3",
   "language": "python",
   "name": "python3"
  },
  "language_info": {
   "codemirror_mode": {
    "name": "ipython",
    "version": 3
   },
   "file_extension": ".py",
   "mimetype": "text/x-python",
   "name": "python",
   "nbconvert_exporter": "python",
   "pygments_lexer": "ipython3",
   "version": "3.6.8"
  }
 },
 "nbformat": 4,
 "nbformat_minor": 2
}
