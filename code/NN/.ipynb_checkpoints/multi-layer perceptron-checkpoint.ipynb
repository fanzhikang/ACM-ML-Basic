{
 "cells": [
  {
   "cell_type": "markdown",
   "metadata": {},
   "source": [
    "# back propogation, activation function and multi-layer perceptron"
   ]
  },
  {
   "cell_type": "code",
   "execution_count": 1,
   "metadata": {},
   "outputs": [],
   "source": [
    "import numpy as np\n",
    "import matplotlib.pyplot as plt"
   ]
  },
  {
   "cell_type": "code",
   "execution_count": null,
   "metadata": {},
   "outputs": [],
   "source": [
    "class Layer():\n",
    "    def __init__(self):\n",
    "        pass\n",
    "    \n",
    "    #forward \n",
    "    #compute output value y given input x\n",
    "    def forward(self, x):\n",
    "        raise NotImplementedError\n",
    "    \n",
    "    #backward pass\n",
    "    #compute gradient for weight variables dE/dW\n",
    "    #and compute gradient for input dE/dx\n",
    "    #given 'node_grad' which is the gradient passed from the previous layers dE/dy\n",
    "    def backward(self, node_grad):\n",
    "        raise NotImplementedError\n",
    "        \n",
    "    #update weight variables based on gradient\n",
    "    def update(self, learn_rate):\n",
    "        raise NotImplementedError"
   ]
  }
 ],
 "metadata": {
  "kernelspec": {
   "display_name": "Python 3",
   "language": "python",
   "name": "python3"
  },
  "language_info": {
   "codemirror_mode": {
    "name": "ipython",
    "version": 3
   },
   "file_extension": ".py",
   "mimetype": "text/x-python",
   "name": "python",
   "nbconvert_exporter": "python",
   "pygments_lexer": "ipython3",
   "version": "3.6.8"
  }
 },
 "nbformat": 4,
 "nbformat_minor": 2
}
