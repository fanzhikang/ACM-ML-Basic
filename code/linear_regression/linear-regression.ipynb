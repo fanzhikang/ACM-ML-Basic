{
 "cells": [
  {
   "cell_type": "markdown",
   "metadata": {},
   "source": [
    "# 线性回归\n",
    "\n",
    "* 任务： 预测房价\n",
    "* 输入：五维特征\n",
    "* 标签：房价\n"
   ]
  },
  {
   "cell_type": "markdown",
   "metadata": {},
   "source": [
    "### 数据处理"
   ]
  },
  {
   "cell_type": "code",
   "execution_count": 7,
   "metadata": {},
   "outputs": [],
   "source": [
    "import numpy as np\n",
    "import matplotlib.pyplot as plt\n",
    "from sklearn import preprocessing"
   ]
  },
  {
   "cell_type": "code",
   "execution_count": 10,
   "metadata": {},
   "outputs": [
    {
     "name": "stdout",
     "output_type": "stream",
     "text": [
      "(5000, 6)\n"
     ]
    }
   ],
   "source": [
    "filepath = \"../../data/datasets_374074_727250_USA_Housing.csv\"\n",
    "data = np.loadtxt(filepath,delimiter=',',skiprows=1)\n",
    "print(data.shape)"
   ]
  },
  {
   "cell_type": "code",
   "execution_count": 34,
   "metadata": {
    "scrolled": true
   },
   "outputs": [
    {
     "name": "stdout",
     "output_type": "stream",
     "text": [
      "(4000, 5)\n"
     ]
    }
   ],
   "source": [
    "x_total = data[:,:5]\n",
    "y_total = data[:,5]\n",
    "\n",
    "x_total = preprocessing.scale(x_total)\n",
    "y_total = preprocessing.scale(y_total)\n",
    "\n",
    "x_train = x_total[:4000]\n",
    "x_test = x_total[4000:]\n",
    "y_train = y_total[:4000]\n",
    "y_test = y_total[4000:]\n",
    "print(x_train.shape)"
   ]
  },
  {
   "cell_type": "markdown",
   "metadata": {},
   "source": [
    "### 2. Normal Equation\n",
    "$\\mu = (X^T X)^{-1}X^Ty$"
   ]
  },
  {
   "cell_type": "code",
   "execution_count": 30,
   "metadata": {},
   "outputs": [
    {
     "name": "stdout",
     "output_type": "stream",
     "text": [
      "[0.65361133 0.46378742 0.34520317 0.00353179 0.42506886 0.00270682]\n",
      "rmse_loss: 0.28904225054224564\n"
     ]
    }
   ],
   "source": [
    "X_train = np.hstack([x_train,np.ones((x_train.shape[0],1))])\n",
    "weight = np.dot(np.dot(np.linalg.inv(np.dot(np.transpose(X_train),X_train)),np.transpose(X_train)),y_train)\n",
    "print(weight)\n",
    "\n",
    "X_test = np.hstack([x_test,np.ones((x_test.shape[0],1))])\n",
    "y_pred = np.dot(X_test,weight)\n",
    "\n",
    "\n",
    "loss = np.sqrt(np.square(y_pred - y_test).mean())\n",
    "print(\"rmse_loss:\",loss)"
   ]
  },
  {
   "cell_type": "markdown",
   "metadata": {},
   "source": [
    "### 3. Sklearn"
   ]
  },
  {
   "cell_type": "code",
   "execution_count": 31,
   "metadata": {},
   "outputs": [],
   "source": [
    "from sklearn  import linear_model"
   ]
  },
  {
   "cell_type": "code",
   "execution_count": 32,
   "metadata": {},
   "outputs": [
    {
     "name": "stdout",
     "output_type": "stream",
     "text": [
      "rmse_loss: 0.28904225054224564\n"
     ]
    }
   ],
   "source": [
    "model = linear_model.LinearRegression()\n",
    "model.fit(x_train,y_train)\n",
    "\n",
    "y_pred = model.predict(x_test)\n",
    "loss = np.sqrt(np.square(y_pred - y_test).mean())\n",
    "print(\"rmse_loss:\",loss)"
   ]
  },
  {
   "cell_type": "markdown",
   "metadata": {},
   "source": [
    "### 4. Gradient Descent\n",
    "$\n",
    "\\begin{aligned}\n",
    "\\frac{\\partial}{\\partial \\theta_j} J(\\theta) &= \\frac{\\partial}{\\partial \\theta_j} \\frac{1}{2} (h_\\theta(x) - y)^2\\\\\n",
    " &= 2 \\cdot \\frac{1}{2} (h_\\theta(x) - y) \\cdot \\frac{\\partial}{\\partial \\theta_j} (h_\\theta(x) - y) \\\\\n",
    " &= (h_\\theta(x) - y) \\cdot \\frac{\\partial}{\\partial \\theta_j} (\\sum_{i=0}^n \\theta_i x_i - y) \\\\\n",
    " &= (h_\\theta(x) - y) x_j\n",
    "\\end{aligned}\n",
    "$"
   ]
  },
  {
   "cell_type": "code",
   "execution_count": 35,
   "metadata": {},
   "outputs": [],
   "source": [
    "def shuffle_aligned_list(data):\n",
    "    num = data[0].shape[0]\n",
    "    shuffle_index = np.random.permutation(num)\n",
    "    return [d[shuffle_index] for d in data]\n",
    "\n",
    "def batch_generator(data, batch_size, shuffle=True):\n",
    "    batch_count = 0\n",
    "    while True:\n",
    "        if batch_count * batch_size + batch_size >= data[0].shape[0]:\n",
    "            batch_count = 0\n",
    "            if shuffle:\n",
    "                data = shuffle_aligned_list(data)\n",
    "        start = batch_count * batch_size\n",
    "        end = start + batch_size\n",
    "        batch_count += 1\n",
    "        yield [d[start:end] for d in data]"
   ]
  },
  {
   "cell_type": "code",
   "execution_count": 43,
   "metadata": {},
   "outputs": [
    {
     "name": "stdout",
     "output_type": "stream",
     "text": [
      "mse_loss: 0.28878914008243806\n"
     ]
    },
    {
     "data": {
      "image/png": "[encoded data removed]",
      "text/plain": [
       "<Figure size 432x288 with 1 Axes>"
      ]
     },
     "metadata": {
      "needs_background": "light"
     },
     "output_type": "display_data"
    }
   ],
   "source": [
    "num_epoch = 600\n",
    "batch_size = 40\n",
    "learning_rate = 0.01\n",
    "\n",
    "\n",
    "def mse(y_pred, y):\n",
    "    return np.sqrt(np.square(y_pred - y_test).mean())\n",
    "\n",
    "weight = np.zeros(6)\n",
    "np.random.seed(0)\n",
    "batch_g = batch_generator([x_train, y_train], batch_size, shuffle=True)\n",
    "X_test = np.hstack([x_test,np.ones((x_test.shape[0],1))])\n",
    "\n",
    "loss_list = []\n",
    "for i in range(num_epoch):\n",
    "    y_pred = np.dot(X_test,weight)\n",
    "    loss = mse(y_pred,y_test)\n",
    "    loss_list.append(loss)\n",
    "    \n",
    "    x_batch, y_batch = batch_g.__next__()\n",
    "    x_batch = np.hstack([x_batch,np.ones([x_batch.shape[0],1])])\n",
    "    y_pred = np.dot(x_batch, weight)\n",
    "    gradient = (x_batch * np.tile((y_pred - y_batch).reshape([-1,1]),6)).mean(axis=0)\n",
    "    weight = weight - learning_rate * gradient\n",
    "\n",
    "    \n",
    "print(\"mse_loss:\",loss)\n",
    "plt.plot(np.arange(num_epoch),loss_list)\n",
    "plt.show()\n",
    "    "
   ]
  }
 ],
 "metadata": {
  "kernelspec": {
   "display_name": "Python 3",
   "language": "python",
   "name": "python3"
  },
  "language_info": {
   "codemirror_mode": {
    "name": "ipython",
    "version": 3
   },
   "file_extension": ".py",
   "mimetype": "text/x-python",
   "name": "python",
   "nbconvert_exporter": "python",
   "pygments_lexer": "ipython3",
   "version": "3.6.8"
  }
 },
 "nbformat": 4,
 "nbformat_minor": 2
}
