{
 "cells": [
  {
   "cell_type": "markdown",
   "metadata": {},
   "source": [
    "# Decision Tree\n",
    "---\n",
    "## Overview\n",
    "* **Task:** Using dataset of titanic: machine learning from disaster (you can check https://www.kaggle.com/c/titanic/data for details) to train a decision tree model so that it predicts whether a passenger can survive given corresponding imformation in type of category, text, and number.\n",
    "* **Input:** train_file with labels: ../input/titanic/train.csv & test_file without labels: ../input/titanic/test.csv\n",
    "* **Label:**\n",
    "\n",
    "| Index | Variable   | Definition                                                   | Type |\n",
    "| ----- | ---------- | ------------------------------------------------------------ | ---- |\n",
    "| 0     | 'Pclass'   | Passenger's class (1st, 2nd, or 3rd)                         | cat  |\n",
    "| 1     | 'Name'     | Passenger's name                                             | text |\n",
    "| 2     | 'Sex'      | Passenger's sex                                              | cat  |\n",
    "| 3     | 'Age'      | Passenger's age                                              | num  |\n",
    "| 4     | 'SibSp'    | Number of siblings/spouses aboard the Titanic                | cat  |\n",
    "| 5     | 'Parch'    | Number of parents/children aboard the Titanic                | cat  |\n",
    "| 6     | 'Ticket'   | Ticket number                                                | text |\n",
    "| 7     | 'Fare'     | Fare paid for ticket                                         | num  |\n",
    "| 8     | 'Cabin'    | Cabin number                                                 | set  |\n",
    "| 9     | 'Embarked' | Where the passenger got on the ship (C - Cherbourg, S - Southampton, Q = Queenstown) | cat  |"
   ]
  },
  {
   "cell_type": "code",
   "execution_count": 1,
   "metadata": {},
   "outputs": [],
   "source": [
    "import numpy as np\n",
    "import matplotlib.pyplot as plt\n",
    "from scipy.sparse import csr_matrix"
   ]
  },
  {
   "cell_type": "markdown",
   "metadata": {},
   "source": [
    "### 1. Data Preparation"
   ]
  },
  {
   "cell_type": "code",
   "execution_count": 2,
   "metadata": {},
   "outputs": [],
   "source": [
    "CAT_FEAT = [0, 2, 4, 5, 9]\n",
    "NUM_FEAT = [3, 7]"
   ]
  },
  {
   "cell_type": "code",
   "execution_count": 4,
   "metadata": {},
   "outputs": [
    {
     "name": "stdout",
     "output_type": "stream",
     "text": [
      "field_names: ['PassengerId', 'Survived', 'Pclass', 'Name', 'Sex', 'Age', 'SibSp', 'Parch', 'Ticket', 'Fare', 'Cabin', 'Embarked']\n",
      "field_names: ['PassengerId', 'Pclass', 'Name', 'Sex', 'Age', 'SibSp', 'Parch', 'Ticket', 'Fare', 'Cabin', 'Embarked']\n",
      "train_feat:\n",
      " ['3' '\"Braund, Mr. Owen Harris\"' 'male' '22' '1' '0' 'A/5 21171' '7.25' ''\n",
      " 'S']\n",
      "test_feat:\n",
      " ['3' '\"Kelly, Mr. James\"' 'male' '34.5' '0' '0' '330911' '7.8292' '' 'Q']\n",
      "train_feat:\n",
      " ['3' 'None' 'male' '22' '1' '0' 'None' '7.25' 'None' 'S']\n",
      "test_feat:\n",
      " ['3' 'None' 'male' '34.5' '0' '0' 'None' '7.8292' 'None' 'Q']\n"
     ]
    }
   ],
   "source": [
    "# parse a string into fields, skip quotations\n",
    "def parse_feat(line):\n",
    "    quota = False\n",
    "    j = 0\n",
    "    feats = []\n",
    "    for i in range(len(line)):\n",
    "        if line[i] == '\\\"':\n",
    "            quota = not quota\n",
    "        if line[i] == ',' and not quota:\n",
    "            feat = line[j:i]\n",
    "            feats.append(feat)\n",
    "            j = i+1\n",
    "    return feats + [line[j:]]\n",
    "\n",
    "\n",
    "# load a csv file, use parse_feat() to convert format\n",
    "def load_file(file_name):\n",
    "    data = []\n",
    "    with open(file_name, 'r') as fin:\n",
    "        print('field_names:', fin.readline().strip().split(','))\n",
    "        for line in fin:\n",
    "            line = line.strip()\n",
    "            data.append(parse_feat(line))\n",
    "    return np.array(data)\n",
    "\n",
    "train_data = load_file('../../data/train.csv')\n",
    "test_data = load_file('../../data/test.csv')\n",
    "\n",
    "train_id, train_label, train_feat = train_data[:, 0], train_data[:, 1], train_data[:, 2:]\n",
    "test_id, test_feat = test_data[:, 0], test_data[:, 1:]\n",
    "\n",
    "print('train_feat:\\n', train_feat[0])\n",
    "print('test_feat:\\n', test_feat[0])\n",
    "\n",
    "train_feat[:, [1, 6, 8]] = None\n",
    "test_feat[:, [1, 6, 8]] = None\n",
    "\n",
    "print('train_feat:\\n', train_feat[0])\n",
    "print('test_feat:\\n', test_feat[0])"
   ]
  },
  {
   "cell_type": "markdown",
   "metadata": {},
   "source": [
    "CART classification tree can deal with continuous numerical features by discretization.\n",
    "\n",
    "Suppose there are $m$ samples, where the continuous feature $A$ has $m$ different values, sorted by $a_1, a_2, \\dots, a_m$.\n",
    "\n",
    "1. Taking the average of two adjacent samples as the dividing point, and obtaining $m-1$ dividing points\n",
    "\n",
    "2. The data is divided into two categories at each division point, and the Gini coefficient is calculated.\n",
    "\n",
    "3. Select the point with the smallest Gini coefficient as the dividing point of the continuous feature\n",
    "\n",
    "In this example, we would like to implement basic ID3 classification tree, so we discretize the continuous features in a similar way during data preprocessing as follows:"
   ]
  },
  {
   "cell_type": "code",
   "execution_count": 5,
   "metadata": {},
   "outputs": [
    {
     "name": "stdout",
     "output_type": "stream",
     "text": [
      "[ 0.17   8.153 16.136 24.119 32.102 40.085 48.068 56.051 64.034 72.017]\n"
     ]
    },
    {
     "data": {
      "image/png": "[encoded data removed]",
      "text/plain": [
       "<Figure size 432x288 with 1 Axes>"
      ]
     },
     "metadata": {
      "needs_background": "light"
     },
     "output_type": "display_data"
    },
    {
     "name": "stdout",
     "output_type": "stream",
     "text": [
      "[  0.       51.23292 102.46584 153.69876 204.93168 256.1646  307.39752\n",
      " 358.63044 409.86336 461.09628]\n"
     ]
    },
    {
     "data": {
      "image/png": "[encoded data removed]",
      "text/plain": [
       "<Figure size 432x288 with 1 Axes>"
      ]
     },
     "metadata": {
      "needs_background": "light"
     },
     "output_type": "display_data"
    }
   ],
   "source": [
    "# return a separator to categorize a numerical field\n",
    "def num2cat(num_feat, n_class=10):\n",
    "    def to_float(x):\n",
    "        if len(x):\n",
    "            return float(x)\n",
    "        else:\n",
    "            return -1\n",
    "\n",
    "    num_feat = np.array([to_float(x) for x in num_feat])\n",
    "    min_val, max_val = num_feat[num_feat > -1].min(), num_feat.max()\n",
    "    sep = np.linspace(min_val, max_val, n_class, endpoint=False)\n",
    "    print(sep)\n",
    "    plt.hist(num_feat[num_feat > -1], bins=n_class) \n",
    "    plt.show()\n",
    "\n",
    "    def indicator(x):\n",
    "        x = to_float(x)\n",
    "        if x == -1:\n",
    "            return 0\n",
    "        for i in range(len(sep)):\n",
    "            if x < sep[i]:\n",
    "                return i    \n",
    "        return n_class\n",
    "\n",
    "    return indicator\n",
    "\n",
    "\n",
    "for nf in NUM_FEAT:\n",
    "    ind = num2cat(list(train_feat[:, nf]) + list(test_feat[:, nf]))\n",
    "    for _ in range(len(train_feat[:, nf])):\n",
    "        train_feat[_, nf] = str(ind(train_feat[_, nf]))\n",
    "    for _ in range(len(test_feat[:, nf])):\n",
    "        test_feat[_, nf] = str(ind(test_feat[_, nf]))"
   ]
  },
  {
   "cell_type": "code",
   "execution_count": 6,
   "metadata": {},
   "outputs": [
    {
     "name": "stdout",
     "output_type": "stream",
     "text": [
      "train_feat:\n",
      " [['3' 'male' '3' ... '0' '1' 'S']\n",
      " ['1' 'female' '5' ... '0' '2' 'C']\n",
      " ['3' 'female' '4' ... '0' '1' 'S']\n",
      " ...\n",
      " ['3' 'female' '0' ... '2' '1' 'S']\n",
      " ['1' 'male' '4' ... '0' '1' 'C']\n",
      " ['3' 'male' '4' ... '0' '1' 'Q']]\n",
      "test_feat:\n",
      " [['3' 'male' '5' ... '0' '1' 'Q']\n",
      " ['3' 'female' '6' ... '0' '1' 'S']\n",
      " ['2' 'male' '8' ... '0' '1' 'Q']\n",
      " ...\n",
      " ['3' 'male' '5' ... '0' '1' 'S']\n",
      " ['3' 'male' '0' ... '0' '1' 'S']\n",
      " ['3' 'male' '0' ... '1' '1' 'C']]\n"
     ]
    }
   ],
   "source": [
    "train_feat = np.delete(train_feat, [1, 6, 8], axis=1)\n",
    "test_feat = np.delete(test_feat, [1, 6, 8], axis=1)\n",
    "\n",
    "print('train_feat:\\n', train_feat)\n",
    "print('test_feat:\\n', test_feat)"
   ]
  },
  {
   "cell_type": "code",
   "execution_count": 7,
   "metadata": {},
   "outputs": [
    {
     "name": "stdout",
     "output_type": "stream",
     "text": [
      "train_feat:\n",
      " [[ 0  3  5 ... 23 31 39]\n",
      " [ 1  4  6 ... 23 32 40]\n",
      " [ 0  4  7 ... 23 31 39]\n",
      " ...\n",
      " [ 0  4  8 ... 25 31 39]\n",
      " [ 1  3  7 ... 23 31 40]\n",
      " [ 0  3  7 ... 23 31 41]]\n",
      "test_feat:\n",
      " [[ 0  3  6 ... 23 31 41]\n",
      " [ 0  4 14 ... 23 31 39]\n",
      " [ 2  3 12 ... 23 31 41]\n",
      " ...\n",
      " [ 0  3  6 ... 23 31 39]\n",
      " [ 0  3  8 ... 23 31 39]\n",
      " [ 0  3  8 ... 24 31 40]]\n"
     ]
    }
   ],
   "source": [
    "class Dataset:\n",
    "    # build feature map for one-hot encoding\n",
    "    @staticmethod\n",
    "    def build_feat_map(cat_feats):\n",
    "        feat_map = {}\n",
    "        for i in range(cat_feats.shape[1]):\n",
    "            for x in cat_feats[:, i]:\n",
    "                feat_name = str(i) + ':' + x\n",
    "                if feat_name not in feat_map:\n",
    "                    feat_map[feat_name] = len(feat_map)\n",
    "\n",
    "        return feat_map\n",
    "    \n",
    "    # one-hot encoding\n",
    "    def feat2id(self, cat_feats):\n",
    "        feat_ids = []\n",
    "        for i in range(cat_feats.shape[1]):\n",
    "            feat_ids.append([])\n",
    "            for x in cat_feats[:, i]:\n",
    "                feat_name = str(i) + ':' + x\n",
    "                feat_ids[-1].append(self.feat_map[feat_name])\n",
    "        return np.int32(feat_ids).transpose()\n",
    "    \n",
    "    # split validation set\n",
    "    def split_train_valid(self):\n",
    "        np.random.seed(123)\n",
    "        rnd = np.random.random(len(self.train_label))\n",
    "        self.train_ind = np.where(rnd < 0.8)[0]\n",
    "        self.valid_ind = np.where(rnd >= 0.8)[0]\n",
    "\n",
    "        def to_csr(data, dim=len(self.feat_map)):\n",
    "            row = np.zeros_like(data) + np.expand_dims(np.arange(len(data)), 1)\n",
    "            val = np.ones_like(data)\n",
    "            return csr_matrix((val.flatten(), (row.flatten(), data.flatten())), shape=(len(data), dim))    \n",
    "            \n",
    "        self.train_data = (self.train_label[self.train_ind], to_csr(self.train_feat[self.train_ind]))\n",
    "        self.valid_data = (self.train_label[self.valid_ind], to_csr(self.train_feat[self.valid_ind]))\n",
    "        self.test_data = (np.zeros(len(self.test_feat), dtype=np.int32), to_csr(self.test_feat))\n",
    "    \n",
    "    def __init__(self):\n",
    "        self.feat_map = self.build_feat_map(np.vstack([train_feat, test_feat]))\n",
    "\n",
    "        self.train_id, self.test_id = train_id, test_id\n",
    "        self.train_label = np.int32(train_label)\n",
    "        self.train_feat, self.test_feat = self.feat2id(train_feat), self.feat2id(test_feat)\n",
    "\n",
    "        print('train_feat:\\n', self.train_feat)\n",
    "        print('test_feat:\\n', self.test_feat)\n",
    "\n",
    "        self.split_train_valid()\n",
    "        \n",
    "Data = Dataset()"
   ]
  },
  {
   "cell_type": "code",
   "execution_count": 8,
   "metadata": {},
   "outputs": [
    {
     "name": "stdout",
     "output_type": "stream",
     "text": [
      "train_feat:\n",
      " [[1 0 0 ... 0 0 0]\n",
      " [0 1 0 ... 1 0 0]\n",
      " [1 0 0 ... 0 0 0]\n",
      " ...\n",
      " [1 0 0 ... 0 0 0]\n",
      " [0 1 0 ... 1 0 0]\n",
      " [1 0 0 ... 0 1 0]]\n",
      "valid_feat:\n",
      " [[0 1 0 ... 0 0 0]\n",
      " [0 0 1 ... 0 0 0]\n",
      " [1 0 0 ... 0 0 0]\n",
      " ...\n",
      " [1 0 0 ... 0 0 0]\n",
      " [1 0 0 ... 0 0 0]\n",
      " [0 0 1 ... 0 0 0]]\n"
     ]
    }
   ],
   "source": [
    "train_label, train_feat = Data.train_data[0], Data.train_data[1].toarray()\n",
    "valid_label, valid_feat = Data.valid_data[0], Data.valid_data[1].toarray()\n",
    "\n",
    "print('train_feat:\\n', train_feat)\n",
    "print('valid_feat:\\n', valid_feat)"
   ]
  },
  {
   "cell_type": "markdown",
   "metadata": {},
   "source": [
    "### 2. Implemention of Decision Tree Class"
   ]
  },
  {
   "cell_type": "markdown",
   "metadata": {},
   "source": [
    "$$H(X)=-\\sum_{i=1}^{n}p_i\\log{p_i}$$\n",
    "\n",
    "$$H(X|Y)=\\sum_{i=1}^{n}p(Y=y_i)H(X|Y=y_i)$$\n",
    "\n",
    "$$g(X,Y)=H(X)-H(X|Y)$$"
   ]
  },
  {
   "cell_type": "code",
   "execution_count": 9,
   "metadata": {},
   "outputs": [
    {
     "name": "stdout",
     "output_type": "stream",
     "text": [
      "0.8231966053748232\n",
      "0.7717391304347826\n"
     ]
    }
   ],
   "source": [
    "NID = {}\n",
    "\n",
    "\n",
    "class Node:\n",
    "    def __init__(self, feat_id=-1):\n",
    "        self.feat_id = feat_id\n",
    "        self.nid = len(NID)\n",
    "        NID[self.nid] = self\n",
    "        self.t_child = None\n",
    "        self.f_child = None\n",
    "        self._class = -1\n",
    "        \n",
    "\n",
    "class DecisionTree:\n",
    "    def __init__(self, n_feat, max_depth=6, verbose=True):\n",
    "        self.n_feat = n_feat\n",
    "        self.max_depth = max_depth\n",
    "        self.verbose = verbose\n",
    "        self.root_node = Node()\n",
    "\n",
    "    @staticmethod\n",
    "    def entropy(labels):\n",
    "        p = np.sum(labels) / len(labels)\n",
    "        if p == 0 or p == 1:\n",
    "            return 0\n",
    "        return - p * np.log(p) - (1-p) * np.log(1-p)\n",
    "\n",
    "    def fit(self, labels, data, cur_node=None, cur_depth=1):\n",
    "        if cur_node is None:\n",
    "            cur_node = self.root_node\n",
    "\n",
    "        if self.verbose:\n",
    "            print(cur_node.nid)\n",
    "        \n",
    "        if labels.sum() == len(labels):\n",
    "            cur_node._class = 1\n",
    "            cur_node.t_child = None\n",
    "            cur_node.f_child = None\n",
    "            return\n",
    "        elif labels.sum() == 0:\n",
    "            cur_node._class = 0\n",
    "            cur_node.t_child = None\n",
    "            cur_node.f_child = None\n",
    "            return\n",
    "        elif cur_depth == self.max_depth:\n",
    "            cur_node._class = labels.sum() / len(labels) >= 0.5\n",
    "            cur_node.t_child = None\n",
    "            cur_node.f_child = None\n",
    "            return\n",
    "        \n",
    "        base_ent = self.entropy(labels)\n",
    "        info_gain = 0\n",
    "        best_split = None\n",
    "        best_t_ind = None\n",
    "        best_f_ind = None\n",
    "        \n",
    "        csc_data = data.tocsc()\n",
    "        for f in range(self.n_feat):\n",
    "            feat = csc_data[:, f].toarray().flatten()\n",
    "            t_ind = feat == 1\n",
    "            f_ind = feat == 0\n",
    "            f_ent = base_ent\n",
    "            if t_ind.sum():\n",
    "                f_ent -= t_ind.sum() / len(feat) * self.entropy(labels[t_ind])\n",
    "            if f_ind.sum():\n",
    "                f_ent -= f_ind.sum() / len(feat) * self.entropy(labels[f_ind])\n",
    "            if info_gain < f_ent:\n",
    "                info_gain = f_ent\n",
    "                best_split = f\n",
    "                best_t_ind = t_ind\n",
    "                best_f_ind = f_ind\n",
    "                \n",
    "        if info_gain == 0:\n",
    "            cur_node._class = labels.sum() / len(labels) >= 0.5\n",
    "            cur_node.t_child = None\n",
    "            cur_node.f_child = None\n",
    "            return\n",
    "                \n",
    "        cur_node.feat_id = best_split\n",
    "        cur_node.t_child = Node()\n",
    "        cur_node.f_child = Node()\n",
    "        \n",
    "        self.fit(labels[best_t_ind], data[best_t_ind], cur_node.t_child, cur_depth+1)\n",
    "        self.fit(labels[best_f_ind], data[best_f_ind], cur_node.f_child, cur_depth+1)\n",
    "\n",
    "    def predict(self, data):\n",
    "        assert data.ndim == 1\n",
    "        cur_node = self.root_node\n",
    "        feat_set = set(data)\n",
    "\n",
    "        while True:\n",
    "            if cur_node.t_child is None or cur_node.f_child is None:\n",
    "                return cur_node._class\n",
    "            if cur_node.feat_id in feat_set:\n",
    "                cur_node = cur_node.t_child\n",
    "            else:\n",
    "                cur_node = cur_node.f_child\n",
    "\n",
    "    def batch_predict(self, data):\n",
    "        preds = []\n",
    "        for i in range(data.shape[0]):\n",
    "            preds.append(self.predict(data[i].tocoo().col))\n",
    "        return np.array(preds)\n",
    "\n",
    "    def acc(self, labels, data):\n",
    "        preds = self.batch_predict(data)\n",
    "        acc = np.int32(labels == preds).sum() / len(labels)\n",
    "        return acc\n",
    "\n",
    "DT = DecisionTree(len(Data.feat_map), max_depth=5, verbose=False)   #超参调节max_depth\n",
    "DT.fit(*Data.train_data)\n",
    "\n",
    "print(DT.acc(*Data.train_data))\n",
    "print(DT.acc(*Data.valid_data))"
   ]
  },
  {
   "cell_type": "markdown",
   "metadata": {},
   "source": [
    "### 3. Implemention with Sklearn Package"
   ]
  },
  {
   "cell_type": "code",
   "execution_count": 10,
   "metadata": {},
   "outputs": [
    {
     "name": "stdout",
     "output_type": "stream",
     "text": [
      "train_feat:\n",
      " [[1 0 0 ... 0 0 0]\n",
      " [0 1 0 ... 1 0 0]\n",
      " [1 0 0 ... 0 0 0]\n",
      " ...\n",
      " [1 0 0 ... 0 0 0]\n",
      " [0 1 0 ... 1 0 0]\n",
      " [1 0 0 ... 0 1 0]]\n",
      "valid_feat:\n",
      " [[0 1 0 ... 0 0 0]\n",
      " [0 0 1 ... 0 0 0]\n",
      " [1 0 0 ... 0 0 0]\n",
      " ...\n",
      " [1 0 0 ... 0 0 0]\n",
      " [1 0 0 ... 0 0 0]\n",
      " [0 0 1 ... 0 0 0]]\n"
     ]
    }
   ],
   "source": [
    "from sklearn import tree\n",
    "\n",
    "train_label, train_feat = Data.train_data[0], Data.train_data[1].toarray()\n",
    "valid_label, valid_feat = Data.valid_data[0], Data.valid_data[1].toarray()\n",
    "\n",
    "print('train_feat:\\n', train_feat)\n",
    "print('valid_feat:\\n', valid_feat)"
   ]
  },
  {
   "cell_type": "code",
   "execution_count": 11,
   "metadata": {},
   "outputs": [
    {
     "name": "stdout",
     "output_type": "stream",
     "text": [
      "train acc: 0.8769448373408769\n",
      "valid acc: 0.8043478260869565\n"
     ]
    }
   ],
   "source": [
    "clf = tree.DecisionTreeClassifier(criterion='entropy', max_depth=10)\n",
    "clf.fit(train_feat, train_label)\n",
    "\n",
    "train_preds = clf.predict(train_feat)\n",
    "valid_preds = clf.predict(valid_feat)\n",
    "print('train acc:', np.sum(train_preds == train_label) / len(train_label))\n",
    "print('valid acc:', np.sum(valid_preds == valid_label) / len(valid_label))"
   ]
  },
  {
   "cell_type": "markdown",
   "metadata": {},
   "source": [
    "### 4. Visualization of Decision Tree"
   ]
  },
  {
   "cell_type": "code",
   "execution_count": 13,
   "metadata": {},
   "outputs": [
    {
     "ename": "ModuleNotFoundError",
     "evalue": "No module named 'pydotplus'",
     "output_type": "error",
     "traceback": [
      "\u001b[0;31m---------------------------------------------------------------------------\u001b[0m",
      "\u001b[0;31mModuleNotFoundError\u001b[0m                       Traceback (most recent call last)",
      "\u001b[0;32m<ipython-input-13-59b3ec01f4c5>\u001b[0m in \u001b[0;36m<module>\u001b[0;34m\u001b[0m\n\u001b[1;32m      1\u001b[0m \u001b[0;32mfrom\u001b[0m \u001b[0msklearn\u001b[0m\u001b[0;34m.\u001b[0m\u001b[0mexternals\u001b[0m\u001b[0;34m.\u001b[0m\u001b[0msix\u001b[0m \u001b[0;32mimport\u001b[0m \u001b[0mStringIO\u001b[0m\u001b[0;34m\u001b[0m\u001b[0;34m\u001b[0m\u001b[0m\n\u001b[0;32m----> 2\u001b[0;31m \u001b[0;32mimport\u001b[0m \u001b[0mpydotplus\u001b[0m\u001b[0;34m\u001b[0m\u001b[0;34m\u001b[0m\u001b[0m\n\u001b[0m\u001b[1;32m      3\u001b[0m \u001b[0;34m\u001b[0m\u001b[0m\n\u001b[1;32m      4\u001b[0m \u001b[0;31m# graphviz\u001b[0m\u001b[0;34m\u001b[0m\u001b[0;34m\u001b[0m\u001b[0;34m\u001b[0m\u001b[0m\n\u001b[1;32m      5\u001b[0m \u001b[0mget_ipython\u001b[0m\u001b[0;34m(\u001b[0m\u001b[0;34m)\u001b[0m\u001b[0;34m.\u001b[0m\u001b[0msystem\u001b[0m\u001b[0;34m(\u001b[0m\u001b[0;34m'pip install pydotplus'\u001b[0m\u001b[0;34m)\u001b[0m\u001b[0;34m\u001b[0m\u001b[0;34m\u001b[0m\u001b[0m\n",
      "\u001b[0;31mModuleNotFoundError\u001b[0m: No module named 'pydotplus'"
     ]
    }
   ],
   "source": [
    "from sklearn.externals.six import StringIO\n",
    "import pydotplus\n",
    "\n",
    "# graphviz\n",
    "!pip install pydotplus\n",
    "dot_data = StringIO()\n",
    "tree.export_graphviz(clf,\n",
    "                    out_file=dot_data,\n",
    "                    feature_names=sorted(sorted(Data.feat_map.keys())),\n",
    "                    class_names=['non-survival', 'survival'],\n",
    "                    filled=True, rounded=True,\n",
    "                    impurity=False)\n",
    "\n",
    "graph = pydotplus.graph_from_dot_data(dot_data.getvalue())\n",
    "graph.write_pdf('viz.pdf')"
   ]
  },
  {
   "cell_type": "code",
   "execution_count": null,
   "metadata": {},
   "outputs": [],
   "source": []
  }
 ],
 "metadata": {
  "kernelspec": {
   "display_name": "Python 3",
   "language": "python",
   "name": "python3"
  },
  "language_info": {
   "codemirror_mode": {
    "name": "ipython",
    "version": 3
   },
   "file_extension": ".py",
   "mimetype": "text/x-python",
   "name": "python",
   "nbconvert_exporter": "python",
   "pygments_lexer": "ipython3",
   "version": "3.6.8"
  }
 },
 "nbformat": 4,
 "nbformat_minor": 2
}
